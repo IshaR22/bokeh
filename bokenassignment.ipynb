{
 "cells": [
  {
   "cell_type": "code",
   "execution_count": null,
   "id": "27f744ff-ae38-4248-87c4-cca8885ad0b0",
   "metadata": {},
   "outputs": [],
   "source": [
    "How can you create a Bokeh plot using Python code?"
   ]
  },
  {
   "cell_type": "code",
   "execution_count": null,
   "id": "f71cd5f1-c036-427a-b5cc-f9f931c7c591",
   "metadata": {},
   "outputs": [],
   "source": [
    "!pip install bokeh"
   ]
  },
  {
   "cell_type": "code",
   "execution_count": null,
   "id": "526766ba-0cbc-4567-87fb-fc625b5bdb6f",
   "metadata": {},
   "outputs": [],
   "source": [
    "import bokeh.io\n",
    "import bokeh.plotting\n",
    "bokeh.io.output_notebook()\n",
    "from bokeh.plotting import figure ,output_file , show\n",
    "from bokeh.sampledata.iris import flowers\n",
    "\n",
    "output_file('test.html')\n",
    "\n",
    "p = figure(title = \"test flower\")\n",
    "p.xaxis.axis_label = \"paltel lenght\"\n",
    "p.yaxis.axis_label = \"paltel widhth\"\n",
    "p.circle(flowers['petal_length'] , flowers['petal_width'])\n",
    "show(p)"
   ]
  },
  {
   "cell_type": "code",
   "execution_count": null,
   "id": "4bf826d8-a4f2-4eb2-a5b8-eca1634bd71e",
   "metadata": {},
   "outputs": [],
   "source": [
    "What are glyphs in Bokeh, and how can you add them to a Bokeh plot? Explain with an example."
   ]
  },
  {
   "cell_type": "code",
   "execution_count": null,
   "id": "65c52706-1aba-438c-9d6d-91a85f7bb04a",
   "metadata": {},
   "outputs": [],
   "source": [
    "from bokeh.plotting import figure, show\n",
    "from bokeh.io import output_notebook\n",
    "x = [1, 2, 3, 4, 5]\n",
    "y = [6, 7, 2, 4, 5]\n",
    "p = figure(title=\"Simple Bokeh Plot with Glyphs\", x_axis_label='x', y_axis_label='y')\n",
    "p.circle(x, y, size=10, color=\"navy\", alpha=0.5)\n",
    "output_notebook()\n",
    "show(p)\n"
   ]
  },
  {
   "cell_type": "code",
   "execution_count": null,
   "id": "2d070afa-a5af-4e21-8f8c-36444793f91d",
   "metadata": {},
   "outputs": [],
   "source": [
    "Q3. How can you customize the appearance of a Bokeh plot, including the axes, title, and legend?"
   ]
  },
  {
   "cell_type": "code",
   "execution_count": null,
   "id": "ea27e8aa-37c9-4778-99f9-03d378f1d3b5",
   "metadata": {},
   "outputs": [],
   "source": [
    "from bokeh.plotting import figure, show\n",
    "from bokeh.io import output_notebook\n",
    "from bokeh.models import Legend\n",
    "x = [1, 2, 3, 4, 5]\n",
    "y1 = [6, 7, 2, 4, 5]\n",
    "y2 = [4, 6, 3, 8, 7]\n",
    "p = figure(title=\"Customized Bokeh Plot\", x_axis_label='X-Axis', y_axis_label='Y-Axis')\n",
    "circle1 = p.circle(x, y1, size=10, color=\"navy\", legend_label=\"Data 1\")\n",
    "circle2 = p.circle(x, y2, size=10, color=\"red\", legend_label=\"Data 2\")\n",
    "p.title.text_font_size = '16pt'\n",
    "p.title.text_color = 'green'\n",
    "\n",
    "p.xaxis.axis_label_text_color = \"blue\"\n",
    "\n",
    "p.yaxis.axis_label_text_color = \"blue\"\n",
    "\n",
    "p.legend.title = 'Legend Title'\n",
    "p.legend.location = \"top_left\"\n",
    "p.legend.border_line_color = \"black\"\n",
    "\n",
    "output_notebook()\n",
    "show(p)\n"
   ]
  },
  {
   "cell_type": "code",
   "execution_count": null,
   "id": "da317ba5-c7f4-4f1d-9b5e-cbd7fb7695a5",
   "metadata": {},
   "outputs": [],
   "source": [
    "Q4. What is a Bokeh server, and how can you use it to create interactive plots that can be updated in\n",
    "real time?"
   ]
  },
  {
   "cell_type": "code",
   "execution_count": null,
   "id": "2d11b196-3abd-45cf-8d4d-be2683429d87",
   "metadata": {},
   "outputs": [],
   "source": [
    "A Bokeh server allows us to build interactive web applications with Bokeh that can update in real time.\n",
    "It provides the capability to stream and modify data in the browser, handle user interactions such as mouse\n",
    "and keyboard events.\n",
    "Key Features of Bokeh Server:\n",
    "Real-time updates: Update plots with new data in real time.\n",
    "User interactions: Respond to user events such as clicks, selections, and sliders.\n",
    "Widgets integration: Use widgets like sliders, dropdowns, and buttons to control plots."
   ]
  },
  {
   "cell_type": "code",
   "execution_count": null,
   "id": "8b0d38f4-f172-483f-9b07-ffcead1fb6e2",
   "metadata": {},
   "outputs": [],
   "source": [
    "Q5. How can you embed a Bokeh plot into a web page or dashboard using Flask or Django?\n"
   ]
  },
  {
   "cell_type": "code",
   "execution_count": null,
   "id": "8991dc94-d4fe-4ec1-a389-3463f10dc467",
   "metadata": {},
   "outputs": [],
   "source": [
    "To embed a Bokeh plot into a web page or dashboard using Flask or Django, you need to follow several steps \n",
    "to integrate the Bokeh visualization with the web framework"
   ]
  },
  {
   "cell_type": "code",
   "execution_count": null,
   "id": "bf7ef9c1-fa60-4700-bfb4-6d79e1c941cd",
   "metadata": {},
   "outputs": [],
   "source": [
    "Using Flask\n",
    "Install Required Packages:\n",
    "Create a Bokeh Plot:\n",
    "Set Up Flask Application:\n",
    "Create a HTML Template:\n",
    "Run the Application:"
   ]
  }
 ],
 "metadata": {
  "kernelspec": {
   "display_name": "Python 3 (ipykernel)",
   "language": "python",
   "name": "python3"
  },
  "language_info": {
   "codemirror_mode": {
    "name": "ipython",
    "version": 3
   },
   "file_extension": ".py",
   "mimetype": "text/x-python",
   "name": "python",
   "nbconvert_exporter": "python",
   "pygments_lexer": "ipython3",
   "version": "3.10.8"
  }
 },
 "nbformat": 4,
 "nbformat_minor": 5
}
